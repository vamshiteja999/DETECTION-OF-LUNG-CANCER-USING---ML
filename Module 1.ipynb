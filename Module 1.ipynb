{
 "cells": [
  {
   "cell_type": "code",
   "execution_count": 1,
   "id": "15f60dce",
   "metadata": {},
   "outputs": [
    {
     "name": "stderr",
     "output_type": "stream",
     "text": [
      "C:\\Users\\prath\\anaconda3\\envs\\project\\lib\\site-packages\\numpy\\_distributor_init.py:30: UserWarning: loaded more than 1 DLL from .libs:\n",
      "C:\\Users\\prath\\anaconda3\\envs\\project\\lib\\site-packages\\numpy\\.libs\\libopenblas.PYQHXLVVQ7VESDPUVUADXEVJOBGHJPAY.gfortran-win_amd64.dll\n",
      "C:\\Users\\prath\\anaconda3\\envs\\project\\lib\\site-packages\\numpy\\.libs\\libopenblas.WCDJNK7YVMPZQ2ME2ZZHJJRJ3JIKNDB7.gfortran-win_amd64.dll\n",
      "  warnings.warn(\"loaded more than 1 DLL from .libs:\"\n"
     ]
    }
   ],
   "source": [
    "import pandas as pd\n",
    "import seaborn as sns\n",
    "import matplotlib.pyplot as plt\n",
    "import numpy as np\n",
    "import os,cv2"
   ]
  },
  {
   "cell_type": "code",
   "execution_count": 2,
   "id": "18fb8f3f",
   "metadata": {},
   "outputs": [],
   "source": [
    "directory=\"DATA/train/\"\n",
    "classses=os.listdir(directory)"
   ]
  },
  {
   "cell_type": "code",
   "execution_count": 3,
   "id": "801f7866",
   "metadata": {},
   "outputs": [
    {
     "name": "stdout",
     "output_type": "stream",
     "text": [
      "DATA/train/adenocarcinoma_left.lower.lobe_T2_N0_M0_Ib\n",
      "DATA/train/large.cell.carcinoma_left.hilum_T2_N2_M0_IIIa\n",
      "DATA/train/normal\n",
      "DATA/train/squamous.cell.carcinoma_left.hilum_T1_N2_M0_IIIa\n"
     ]
    }
   ],
   "source": [
    "import os\n",
    "import cv2\n",
    "image_size=224\n",
    "data1=[]#empty list\n",
    "for category in classses:\n",
    "    path = os.path.join(directory, category)\n",
    "    print(path)\n",
    "    label = classses.index(category)\n",
    "    for img in os.listdir(path):\n",
    "        img_path = os.path.join(path, img)\n",
    "        arr = cv2.imread(img_path)#Reading Images\n",
    "        arr = cv2.cvtColor(arr, cv2.COLOR_BGR2RGB)\n",
    "        new_arr = cv2.resize(arr, (image_size, image_size))#Resizing into same shape\n",
    "        data1.append([new_arr, label])"
   ]
  },
  {
   "cell_type": "code",
   "execution_count": 4,
   "id": "142404b9",
   "metadata": {},
   "outputs": [],
   "source": [
    "import random\n",
    "random.shuffle(data1)"
   ]
  },
  {
   "cell_type": "code",
   "execution_count": 5,
   "id": "fac2efaf",
   "metadata": {},
   "outputs": [
    {
     "data": {
      "text/plain": [
       "613"
      ]
     },
     "execution_count": 5,
     "metadata": {},
     "output_type": "execute_result"
    }
   ],
   "source": [
    "len(data1)"
   ]
  },
  {
   "cell_type": "code",
   "execution_count": 6,
   "id": "f34ea962",
   "metadata": {},
   "outputs": [
    {
     "data": {
      "text/plain": [
       "['adenocarcinoma_left.lower.lobe_T2_N0_M0_Ib',\n",
       " 'large.cell.carcinoma_left.hilum_T2_N2_M0_IIIa',\n",
       " 'normal',\n",
       " 'squamous.cell.carcinoma_left.hilum_T1_N2_M0_IIIa']"
      ]
     },
     "execution_count": 6,
     "metadata": {},
     "output_type": "execute_result"
    }
   ],
   "source": [
    "classses"
   ]
  },
  {
   "cell_type": "code",
   "execution_count": 7,
   "id": "12cb79c3",
   "metadata": {},
   "outputs": [],
   "source": [
    "x=[]#ndependent\n",
    "y=[]#dependent\n",
    "for features,labels in data1:\n",
    "    x.append(features)\n",
    "    y.append(labels)"
   ]
  },
  {
   "cell_type": "code",
   "execution_count": 8,
   "id": "26a1c28e",
   "metadata": {},
   "outputs": [],
   "source": [
    "x=np.array(x)\n",
    "y=np.array(y)\n",
    "x=x/255 #feature scaling"
   ]
  },
  {
   "cell_type": "code",
   "execution_count": 9,
   "id": "d9413881",
   "metadata": {},
   "outputs": [
    {
     "name": "stderr",
     "output_type": "stream",
     "text": [
      "Using TensorFlow backend.\n"
     ]
    }
   ],
   "source": [
    "import tensorflow as tf\n",
    "from tensorflow import keras\n",
    "from keras.models import Sequential"
   ]
  },
  {
   "cell_type": "code",
   "execution_count": 10,
   "id": "f501b635",
   "metadata": {},
   "outputs": [],
   "source": [
    "model=tf.keras.models.Sequential([\n",
    "    tf.keras.layers.Conv2D(64,(3,3),activation='relu',input_shape=x.shape[1:]),\n",
    "    tf.keras.layers.MaxPooling2D(2,2),\n",
    "    tf.keras.layers.Conv2D(32,(3,3),activation='relu'),\n",
    "    tf.keras.layers.MaxPooling2D(2,2),#Extracting Image Features\n",
    "    tf.keras.layers.Flatten(),# converting 2 dimensional data to one dimensional\n",
    "    tf.keras.layers.Dense(16,activation='relu'),\n",
    "    tf.keras.layers.Dense(4,activation=tf.nn.softmax)])"
   ]
  },
  {
   "cell_type": "code",
   "execution_count": 11,
   "id": "80c4d821",
   "metadata": {},
   "outputs": [],
   "source": [
    "model.compile(optimizer=\"Adam\",loss='sparse_categorical_crossentropy',metrics=['accuracy']) "
   ]
  },
  {
   "cell_type": "code",
   "execution_count": 12,
   "id": "e41bd4d9",
   "metadata": {},
   "outputs": [],
   "source": [
    "from sklearn.model_selection import train_test_split\n",
    "X_train,X_test,y_train,y_test=train_test_split(x,y,test_size=0.25)"
   ]
  },
  {
   "cell_type": "code",
   "execution_count": 13,
   "id": "442f58a1",
   "metadata": {},
   "outputs": [
    {
     "name": "stdout",
     "output_type": "stream",
     "text": [
      "Epoch 1/5\n",
      "15/15 [==============================] - 24s 2s/step - loss: 1.5482 - accuracy: 0.3682 - val_loss: 1.2095 - val_accuracy: 0.4221\n",
      "Epoch 2/5\n",
      "15/15 [==============================] - 23s 2s/step - loss: 0.9810 - accuracy: 0.5359 - val_loss: 0.8877 - val_accuracy: 0.6104\n",
      "Epoch 3/5\n",
      "15/15 [==============================] - 23s 2s/step - loss: 0.6685 - accuracy: 0.7211 - val_loss: 0.7403 - val_accuracy: 0.6753\n",
      "Epoch 4/5\n",
      "15/15 [==============================] - 24s 2s/step - loss: 0.4008 - accuracy: 0.8453 - val_loss: 0.5087 - val_accuracy: 0.7857\n",
      "Epoch 5/5\n",
      "15/15 [==============================] - 28s 2s/step - loss: 0.2254 - accuracy: 0.9259 - val_loss: 0.5700 - val_accuracy: 0.7532\n",
      "5/5 [==============================] - 1s 275ms/step - loss: 0.5700 - accuracy: 0.7532\n",
      "Test loss: 0.5700269341468811\n",
      "Test accuracy: 0.7532467246055603\n"
     ]
    }
   ],
   "source": [
    "history=model.fit(x=X_train,y=y_train,epochs=5,validation_data= (X_test, y_test))\n",
    "\n",
    "score = model.evaluate(x=X_test,y=y_test)\n",
    "\n",
    "print('Test loss:', score[0])\n",
    "print('Test accuracy:', score[1])"
   ]
  },
  {
   "cell_type": "code",
   "execution_count": 14,
   "id": "cae3fd2f",
   "metadata": {},
   "outputs": [
    {
     "data": {
      "image/png": "[encoded data removed]",
      "text/plain": [
       "<Figure size 432x288 with 1 Axes>"
      ]
     },
     "metadata": {
      "needs_background": "light"
     },
     "output_type": "display_data"
    },
    {
     "data": {
      "image/png": "[encoded data removed]",
      "text/plain": [
       "<Figure size 432x288 with 1 Axes>"
      ]
     },
     "metadata": {
      "needs_background": "light"
     },
     "output_type": "display_data"
    }
   ],
   "source": [
    "plt.plot(history.history['accuracy'])\n",
    "plt.plot(history.history['val_accuracy'])\n",
    "plt.title('model accuracy')\n",
    "plt.ylabel('accuracy')\n",
    "plt.xlabel('epoch')\n",
    "plt.legend(['train', 'test'], loc='upper left')\n",
    "plt.show()\n",
    "# summarize history for loss\n",
    "plt.plot(history.history['loss'])\n",
    "plt.plot(history.history['val_loss'])\n",
    "plt.title('model loss')\n",
    "plt.ylabel('loss')\n",
    "plt.xlabel('epoch')\n",
    "plt.legend(['train', 'test'], loc='upper left')\n",
    "plt.show()"
   ]
  },
  {
   "cell_type": "code",
   "execution_count": null,
   "id": "67d9ab5a",
   "metadata": {},
   "outputs": [],
   "source": []
  }
 ],
 "metadata": {
  "kernelspec": {
   "display_name": "Python 3 (ipykernel)",
   "language": "python",
   "name": "python3"
  },
  "language_info": {
   "codemirror_mode": {
    "name": "ipython",
    "version": 3
   },
   "file_extension": ".py",
   "mimetype": "text/x-python",
   "name": "python",
   "nbconvert_exporter": "python",
   "pygments_lexer": "ipython3",
   "version": "3.8.12"
  }
 },
 "nbformat": 4,
 "nbformat_minor": 5
}
