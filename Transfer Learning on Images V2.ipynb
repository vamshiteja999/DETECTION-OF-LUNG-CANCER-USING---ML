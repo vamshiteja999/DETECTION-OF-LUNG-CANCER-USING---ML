{
 "cells": [
  {
   "cell_type": "code",
   "execution_count": 1,
   "metadata": {},
   "outputs": [
    {
     "name": "stdout",
     "output_type": "stream",
     "text": [
      "1 Physical GPUs, 1 Logical GPUs\n"
     ]
    }
   ],
   "source": [
    "import tensorflow as tf\n",
    "gpus = tf.config.experimental.list_physical_devices('GPU')\n",
    "if gpus:\n",
    "    # Restrict TensorFlow to only allocate 1GB * 2 of memory on the first GPU\n",
    "    try:\n",
    "        tf.config.experimental.set_virtual_device_configuration(\n",
    "            gpus[0],\n",
    "            [tf.config.experimental.VirtualDeviceConfiguration(memory_limit=1024 * 2)])\n",
    "        logical_gpus = tf.config.experimental.list_logical_devices('GPU')\n",
    "        print(len(gpus), \"Physical GPUs,\", len(logical_gpus), \"Logical GPUs\")\n",
    "    except RuntimeError as e:\n",
    "        # Virtual devices must be set before GPUs have been initialized\n",
    "        print(e)"
   ]
  },
  {
   "cell_type": "code",
   "execution_count": 2,
   "id": "cce45dae",
   "metadata": {},
   "outputs": [],
   "source": [
    "import pandas as pd\n",
    "import seaborn as sns\n",
    "import matplotlib.pyplot as plt\n",
    "import numpy as np\n",
    "import os,cv2"
   ]
  },
  {
   "cell_type": "code",
   "execution_count": 3,
   "id": "9d6c3a68",
   "metadata": {},
   "outputs": [],
   "source": [
    "directory=\"DATA/train/\"\n",
    "classses=os.listdir(directory)"
   ]
  },
  {
   "cell_type": "code",
   "execution_count": 4,
   "id": "d452afc9",
   "metadata": {},
   "outputs": [
    {
     "name": "stdout",
     "output_type": "stream",
     "text": [
      "DATA/train/adenocarcinoma_left.lower.lobe_T2_N0_M0_Ib\n",
      "DATA/train/large.cell.carcinoma_left.hilum_T2_N2_M0_IIIa\n",
      "DATA/train/normal\n",
      "DATA/train/squamous.cell.carcinoma_left.hilum_T1_N2_M0_IIIa\n"
     ]
    }
   ],
   "source": [
    "import os\n",
    "import cv2\n",
    "image_size=224\n",
    "data1=[]#empty list\n",
    "for category in classses:\n",
    "    path = os.path.join(directory, category)\n",
    "    print(path)\n",
    "    label = classses.index(category)\n",
    "    for img in os.listdir(path):\n",
    "        img_path = os.path.join(path, img)\n",
    "        arr = cv2.imread(img_path)#Reading Images\n",
    "        arr = cv2.cvtColor(arr, cv2.COLOR_BGR2RGB)\n",
    "        new_arr = cv2.resize(arr, (image_size, image_size))#Resizing into same shape\n",
    "        data1.append([new_arr, label])"
   ]
  },
  {
   "cell_type": "code",
   "execution_count": 5,
   "id": "528a3f67",
   "metadata": {},
   "outputs": [],
   "source": [
    "import random\n",
    "random.shuffle(data1)"
   ]
  },
  {
   "cell_type": "code",
   "execution_count": 6,
   "id": "4805c370",
   "metadata": {},
   "outputs": [
    {
     "data": {
      "text/plain": [
       "613"
      ]
     },
     "execution_count": 6,
     "metadata": {},
     "output_type": "execute_result"
    }
   ],
   "source": [
    "len(data1)"
   ]
  },
  {
   "cell_type": "code",
   "execution_count": 7,
   "id": "07ee87be",
   "metadata": {},
   "outputs": [
    {
     "data": {
      "text/plain": [
       "['adenocarcinoma_left.lower.lobe_T2_N0_M0_Ib',\n",
       " 'large.cell.carcinoma_left.hilum_T2_N2_M0_IIIa',\n",
       " 'normal',\n",
       " 'squamous.cell.carcinoma_left.hilum_T1_N2_M0_IIIa']"
      ]
     },
     "execution_count": 7,
     "metadata": {},
     "output_type": "execute_result"
    }
   ],
   "source": [
    "classses"
   ]
  },
  {
   "cell_type": "code",
   "execution_count": 8,
   "id": "61c0ce29",
   "metadata": {},
   "outputs": [],
   "source": [
    "x=[]#ndependent\n",
    "y=[]#dependent\n",
    "for features,labels in data1:\n",
    "    x.append(features)\n",
    "    y.append(labels)"
   ]
  },
  {
   "cell_type": "code",
   "execution_count": 9,
   "id": "57d2e51a",
   "metadata": {},
   "outputs": [],
   "source": [
    "x=np.array(x)\n",
    "y=np.array(y)\n",
    "#x=x/255 #feature scaling"
   ]
  },
  {
   "cell_type": "code",
   "execution_count": 10,
   "id": "204247a5",
   "metadata": {},
   "outputs": [],
   "source": [
    "from sklearn.model_selection import train_test_split\n",
    "X_train,X_test,y_train,y_test=train_test_split(x,y,test_size=0.2)"
   ]
  },
  {
   "cell_type": "code",
   "execution_count": 11,
   "id": "a6106aa2",
   "metadata": {},
   "outputs": [],
   "source": [
    "from tensorflow.keras import applications\n",
    "from tensorflow.keras import layers\n",
    "from tensorflow import keras\n",
    "from tensorflow.keras import optimizers\n",
    "from tensorflow.keras.models import Sequential ,Model, load_model\n",
    "from tensorflow.keras.layers import Dropout, Flatten, Dense ,Dropout\n",
    "from tensorflow.keras.callbacks import ModelCheckpoint, LearningRateScheduler, EarlyStopping, ReduceLROnPlateau, TensorBoard\n"
   ]
  },
  {
   "cell_type": "code",
   "execution_count": 12,
   "metadata": {},
   "outputs": [],
   "source": [
    "base_model = applications.VGG16(weights='imagenet', include_top=False, input_shape=(224,224,3))\n",
    "model_vgg = Sequential()\n",
    "model_vgg.add(base_model)\n",
    "model_vgg.add(Flatten(input_shape=base_model.output_shape[1:]))\n",
    "model_vgg.add(Dense(256, activation='relu'))\n",
    "model_vgg.add(Dropout(0.2))\n",
    "model_vgg.add(Dense(128, activation='relu'))\n",
    "model_vgg.add(Dropout(0.2))\n",
    "model_vgg.add(Dense(4, activation='softmax'))\n",
    "model_vgg = Model(inputs=model_vgg.input, outputs=model_vgg.output)\n",
    "model_vgg.compile(loss='sparse_categorical_crossentropy',optimizer=optimizers.Adam(lr=1e-4),metrics=['accuracy'])"
   ]
  },
  {
   "cell_type": "code",
   "execution_count": 13,
   "id": "a904894e",
   "metadata": {},
   "outputs": [
    {
     "name": "stdout",
     "output_type": "stream",
     "text": [
      "Epoch 1/10\n",
      "31/31 [==============================] - 22s 452ms/step - loss: 2.9939 - accuracy: 0.3274 - val_loss: 1.0359 - val_accuracy: 0.5528\n",
      "Epoch 2/10\n",
      "31/31 [==============================] - 3s 107ms/step - loss: 0.9891 - accuracy: 0.5856 - val_loss: 0.9178 - val_accuracy: 0.5610\n",
      "Epoch 3/10\n",
      "31/31 [==============================] - 3s 106ms/step - loss: 0.8061 - accuracy: 0.6676 - val_loss: 0.6049 - val_accuracy: 0.7642\n",
      "Epoch 4/10\n",
      "31/31 [==============================] - 3s 106ms/step - loss: 0.5758 - accuracy: 0.7856 - val_loss: 0.5430 - val_accuracy: 0.7805\n",
      "Epoch 5/10\n",
      "31/31 [==============================] - 3s 106ms/step - loss: 0.4185 - accuracy: 0.8462 - val_loss: 0.4808 - val_accuracy: 0.8374\n",
      "Epoch 6/10\n",
      "31/31 [==============================] - 3s 107ms/step - loss: 0.3976 - accuracy: 0.8699 - val_loss: 0.2824 - val_accuracy: 0.9187\n",
      "Epoch 7/10\n",
      "31/31 [==============================] - 3s 107ms/step - loss: 0.2085 - accuracy: 0.9258 - val_loss: 0.1441 - val_accuracy: 0.9756\n",
      "Epoch 8/10\n",
      "31/31 [==============================] - 3s 107ms/step - loss: 0.1288 - accuracy: 0.9539 - val_loss: 0.5441 - val_accuracy: 0.8211\n",
      "Epoch 9/10\n",
      "31/31 [==============================] - 3s 107ms/step - loss: 0.1615 - accuracy: 0.9427 - val_loss: 0.2767 - val_accuracy: 0.9431\n",
      "Epoch 10/10\n",
      "31/31 [==============================] - 3s 107ms/step - loss: 0.1480 - accuracy: 0.9507 - val_loss: 0.2528 - val_accuracy: 0.9106\n"
     ]
    }
   ],
   "source": [
    "progess = model_vgg.fit(x=X_train,y=y_train,epochs=10,validation_data= (X_test, y_test),batch_size=16)\n"
   ]
  },
  {
   "cell_type": "code",
   "execution_count": 14,
   "id": "54b8b445",
   "metadata": {},
   "outputs": [
    {
     "data": {
      "image/png": "[encoded data removed]",
      "text/plain": [
       "<Figure size 432x288 with 1 Axes>"
      ]
     },
     "metadata": {
      "needs_background": "light"
     },
     "output_type": "display_data"
    },
    {
     "data": {
      "image/png": "[encoded data removed]",
      "text/plain": [
       "<Figure size 432x288 with 1 Axes>"
      ]
     },
     "metadata": {
      "needs_background": "light"
     },
     "output_type": "display_data"
    }
   ],
   "source": [
    "plt.plot(progess.history['accuracy'])\n",
    "plt.plot(progess.history['val_accuracy'])\n",
    "plt.title('model accuracy')\n",
    "plt.ylabel('accuracy')\n",
    "plt.xlabel('epoch')\n",
    "plt.legend(['train', 'test'], loc='upper left')\n",
    "plt.show()\n",
    "# summarize history for loss\n",
    "plt.plot(progess.history['loss'])\n",
    "plt.plot(progess.history['val_loss'])\n",
    "plt.title('model loss')\n",
    "plt.ylabel('loss')\n",
    "plt.xlabel('epoch')\n",
    "plt.legend(['train', 'test'], loc='upper left')\n",
    "plt.show()"
   ]
  },
  {
   "cell_type": "code",
   "execution_count": 15,
   "id": "1e0a1561",
   "metadata": {},
   "outputs": [],
   "source": [
    "from sklearn.metrics import classification_report, confusion_matrix\n",
    "y_pred = model_vgg.predict(X_test)"
   ]
  },
  {
   "cell_type": "code",
   "execution_count": 16,
   "id": "21378ef5",
   "metadata": {},
   "outputs": [],
   "source": [
    "y_pred_new=[]\n",
    "for i in y_pred:\n",
    "    #print(i)\n",
    "    #break\n",
    "    y=np.argmax(i)\n",
    "    #break\n",
    "    #print(y)\n",
    "    y_pred_new.append(y)\n",
    "    #break"
   ]
  },
  {
   "cell_type": "code",
   "execution_count": 17,
   "id": "814a094a",
   "metadata": {},
   "outputs": [
    {
     "name": "stdout",
     "output_type": "stream",
     "text": [
      "                                                  precision    recall  f1-score   support\n",
      "\n",
      "      adenocarcinoma_left.lower.lobe_T2_N0_M0_Ib       0.85      0.91      0.88        32\n",
      "   large.cell.carcinoma_left.hilum_T2_N2_M0_IIIa       0.93      0.90      0.92        30\n",
      "                                          normal       0.96      1.00      0.98        26\n",
      "squamous.cell.carcinoma_left.hilum_T1_N2_M0_IIIa       0.91      0.86      0.88        35\n",
      "\n",
      "                                        accuracy                           0.91       123\n",
      "                                       macro avg       0.91      0.92      0.91       123\n",
      "                                    weighted avg       0.91      0.91      0.91       123\n",
      "\n"
     ]
    }
   ],
   "source": [
    "from sklearn.metrics import classification_report, confusion_matrix\n",
    "print(classification_report(y_test, y_pred_new, target_names=classses))"
   ]
  },
  {
   "cell_type": "code",
   "execution_count": 18,
   "id": "a28092a2",
   "metadata": {},
   "outputs": [
    {
     "data": {
      "text/plain": [
       "<AxesSubplot:>"
      ]
     },
     "execution_count": 18,
     "metadata": {},
     "output_type": "execute_result"
    },
    {
     "data": {
      "image/png": "[encoded data removed]",
      "text/plain": [
       "<Figure size 720x216 with 2 Axes>"
      ]
     },
     "metadata": {
      "needs_background": "light"
     },
     "output_type": "display_data"
    }
   ],
   "source": [
    "from sklearn import metrics\n",
    "cm=metrics.confusion_matrix(y_test,y_pred_new)\n",
    "import pandas as pd\n",
    "df_cm=pd.DataFrame(cm)\n",
    "import seaborn as sns\n",
    "plt.figure(figsize = (10,3))\n",
    "sns.heatmap(df_cm, annot=True)"
   ]
  },
  {
   "cell_type": "code",
   "execution_count": 19,
   "metadata": {},
   "outputs": [
    {
     "name": "stdout",
     "output_type": "stream",
     "text": [
      "INFO:tensorflow:Assets written to: model_vgg.hp5\\assets\n"
     ]
    }
   ],
   "source": [
    "model_vgg.save(\"model_vgg.hp5\")"
   ]
  },
  {
   "cell_type": "code",
   "execution_count": 20,
   "id": "741d39a0",
   "metadata": {},
   "outputs": [],
   "source": [
    "base_model = applications.resnet.ResNet50(weights='imagenet', include_top=False, input_shape=(224,224,3))\n",
    "model = Sequential()\n",
    "model.add(base_model)\n",
    "model.add(Flatten(input_shape=base_model.output_shape[1:]))\n",
    "model.add(Dense(256, activation='relu'))\n",
    "model.add(Dropout(0.2))\n",
    "model.add(Dense(128, activation='relu'))\n",
    "model.add(Dropout(0.2))\n",
    "model.add(Dense(4, activation='softmax'))\n",
    "model = Model(inputs=model.input, outputs=model.output)\n",
    "model.compile(loss='sparse_categorical_crossentropy',optimizer=optimizers.Adam(lr=1e-4),metrics=['accuracy'])"
   ]
  },
  {
   "cell_type": "code",
   "execution_count": 22,
   "id": "3568e27f",
   "metadata": {},
   "outputs": [
    {
     "name": "stdout",
     "output_type": "stream",
     "text": [
      "Epoch 1/10\n",
      "62/62 [==============================] - 24s 261ms/step - loss: 1.6262 - accuracy: 0.6204 - val_loss: 0.7433 - val_accuracy: 0.7073\n",
      "Epoch 2/10\n",
      "62/62 [==============================] - 5s 78ms/step - loss: 0.4106 - accuracy: 0.8571 - val_loss: 3.8213 - val_accuracy: 0.5203\n",
      "Epoch 3/10\n",
      "62/62 [==============================] - 5s 78ms/step - loss: 0.3684 - accuracy: 0.9041 - val_loss: 0.2702 - val_accuracy: 0.8862\n",
      "Epoch 4/10\n",
      "62/62 [==============================] - 5s 78ms/step - loss: 0.0889 - accuracy: 0.9673 - val_loss: 0.2331 - val_accuracy: 0.9350\n",
      "Epoch 5/10\n",
      "62/62 [==============================] - 5s 78ms/step - loss: 0.1343 - accuracy: 0.9694 - val_loss: 0.2310 - val_accuracy: 0.9268\n",
      "Epoch 6/10\n",
      "62/62 [==============================] - 5s 78ms/step - loss: 0.1190 - accuracy: 0.9755 - val_loss: 0.1885 - val_accuracy: 0.9350\n",
      "Epoch 7/10\n",
      "62/62 [==============================] - 5s 78ms/step - loss: 0.4170 - accuracy: 0.9122 - val_loss: 0.7255 - val_accuracy: 0.8049\n",
      "Epoch 8/10\n",
      "62/62 [==============================] - 5s 79ms/step - loss: 0.1492 - accuracy: 0.9571 - val_loss: 0.1090 - val_accuracy: 0.9675\n",
      "Epoch 9/10\n",
      "62/62 [==============================] - 5s 78ms/step - loss: 0.1040 - accuracy: 0.9673 - val_loss: 0.2389 - val_accuracy: 0.9350\n",
      "Epoch 10/10\n",
      "62/62 [==============================] - 5s 79ms/step - loss: 0.1018 - accuracy: 0.9592 - val_loss: 0.1292 - val_accuracy: 0.9593\n"
     ]
    }
   ],
   "source": [
    "progess = model.fit(x=X_train,y=y_train,epochs=10,validation_data= (X_test, y_test),batch_size=8)"
   ]
  },
  {
   "cell_type": "code",
   "execution_count": 23,
   "id": "9ece1357",
   "metadata": {},
   "outputs": [
    {
     "data": {
      "image/png": "[encoded data removed]",
      "text/plain": [
       "<Figure size 432x288 with 1 Axes>"
      ]
     },
     "metadata": {
      "needs_background": "light"
     },
     "output_type": "display_data"
    },
    {
     "data": {
      "image/png": "[encoded data removed]",
      "text/plain": [
       "<Figure size 432x288 with 1 Axes>"
      ]
     },
     "metadata": {
      "needs_background": "light"
     },
     "output_type": "display_data"
    }
   ],
   "source": [
    "plt.plot(progess.history['accuracy'])\n",
    "plt.plot(progess.history['val_accuracy'])\n",
    "plt.title('model accuracy')\n",
    "plt.ylabel('accuracy')\n",
    "plt.xlabel('epoch')\n",
    "plt.legend(['train', 'test'], loc='upper left')\n",
    "plt.show()\n",
    "# summarize history for loss\n",
    "plt.plot(progess.history['loss'])\n",
    "plt.plot(progess.history['val_loss'])\n",
    "plt.title('model loss')\n",
    "plt.ylabel('loss')\n",
    "plt.xlabel('epoch')\n",
    "plt.legend(['train', 'test'], loc='upper left')\n",
    "plt.show()"
   ]
  },
  {
   "cell_type": "code",
   "execution_count": 24,
   "id": "3b07f3ca",
   "metadata": {},
   "outputs": [],
   "source": [
    "from sklearn.metrics import classification_report, confusion_matrix\n",
    "y_pred = model.predict(X_test)"
   ]
  },
  {
   "cell_type": "code",
   "execution_count": 25,
   "id": "c8cc0053",
   "metadata": {},
   "outputs": [],
   "source": [
    "y_pred_new=[]\n",
    "for i in y_pred:\n",
    "    #print(i)\n",
    "    #break\n",
    "    y=np.argmax(i)\n",
    "    #break\n",
    "    #print(y)\n",
    "    y_pred_new.append(y)"
   ]
  },
  {
   "cell_type": "code",
   "execution_count": 26,
   "id": "690ad306",
   "metadata": {},
   "outputs": [
    {
     "name": "stdout",
     "output_type": "stream",
     "text": [
      "                                                  precision    recall  f1-score   support\n",
      "\n",
      "      adenocarcinoma_left.lower.lobe_T2_N0_M0_Ib       0.94      0.94      0.94        32\n",
      "   large.cell.carcinoma_left.hilum_T2_N2_M0_IIIa       0.94      0.97      0.95        30\n",
      "                                          normal       1.00      1.00      1.00        26\n",
      "squamous.cell.carcinoma_left.hilum_T1_N2_M0_IIIa       0.97      0.94      0.96        35\n",
      "\n",
      "                                        accuracy                           0.96       123\n",
      "                                       macro avg       0.96      0.96      0.96       123\n",
      "                                    weighted avg       0.96      0.96      0.96       123\n",
      "\n"
     ]
    }
   ],
   "source": [
    "from sklearn.metrics import classification_report, confusion_matrix\n",
    "print(classification_report(y_test, y_pred_new, target_names=classses))"
   ]
  },
  {
   "cell_type": "code",
   "execution_count": 27,
   "id": "e034e891",
   "metadata": {},
   "outputs": [
    {
     "data": {
      "text/plain": [
       "<AxesSubplot:>"
      ]
     },
     "execution_count": 27,
     "metadata": {},
     "output_type": "execute_result"
    },
    {
     "data": {
      "image/png": "[encoded data removed]",
      "text/plain": [
       "<Figure size 720x216 with 2 Axes>"
      ]
     },
     "metadata": {
      "needs_background": "light"
     },
     "output_type": "display_data"
    }
   ],
   "source": [
    "from sklearn import metrics\n",
    "cm=metrics.confusion_matrix(y_test,y_pred_new)\n",
    "import pandas as pd\n",
    "df_cm=pd.DataFrame(cm)\n",
    "import seaborn as sns\n",
    "plt.figure(figsize = (10,3))\n",
    "sns.heatmap(df_cm, annot=True)"
   ]
  },
  {
   "cell_type": "code",
   "execution_count": 28,
   "metadata": {},
   "outputs": [
    {
     "name": "stdout",
     "output_type": "stream",
     "text": [
      "INFO:tensorflow:Assets written to: model_resnet.hp5\\assets\n"
     ]
    }
   ],
   "source": [
    "model.save(\"model_resnet.hp5\")"
   ]
  },
  {
   "cell_type": "code",
   "execution_count": 29,
   "id": "ccde5060",
   "metadata": {},
   "outputs": [],
   "source": [
    "base_model = applications.InceptionV3(weights='imagenet', include_top=False, input_shape=(224,224,3))\n",
    "model = Sequential()\n",
    "model.add(base_model)\n",
    "model.add(Flatten(input_shape=base_model.output_shape[1:]))\n",
    "model.add(Dense(256, activation='relu'))\n",
    "model.add(Dropout(0.2))\n",
    "model.add(Dense(128, activation='relu'))\n",
    "model.add(Dropout(0.2))\n",
    "model.add(Dense(4, activation='softmax'))\n",
    "model = Model(inputs=model.input, outputs=model.output)\n",
    "model.compile(loss='sparse_categorical_crossentropy',optimizer=optimizers.Adam(lr=1e-4),metrics=['accuracy'])"
   ]
  },
  {
   "cell_type": "code",
   "execution_count": 31,
   "id": "d34fd56b",
   "metadata": {},
   "outputs": [
    {
     "name": "stdout",
     "output_type": "stream",
     "text": [
      "Epoch 1/7\n",
      "62/62 [==============================] - 6s 93ms/step - loss: 0.3250 - accuracy: 0.8796 - val_loss: 0.5888 - val_accuracy: 0.7561\n",
      "Epoch 2/7\n",
      "62/62 [==============================] - 6s 92ms/step - loss: 0.1437 - accuracy: 0.9571 - val_loss: 0.6104 - val_accuracy: 0.8049\n",
      "Epoch 3/7\n",
      "62/62 [==============================] - 6s 95ms/step - loss: 0.2356 - accuracy: 0.9388 - val_loss: 0.5779 - val_accuracy: 0.8293\n",
      "Epoch 4/7\n",
      "62/62 [==============================] - 6s 93ms/step - loss: 0.2201 - accuracy: 0.9347 - val_loss: 0.2110 - val_accuracy: 0.9268\n",
      "Epoch 5/7\n",
      "62/62 [==============================] - 6s 96ms/step - loss: 0.0749 - accuracy: 0.9776 - val_loss: 0.3827 - val_accuracy: 0.8943\n",
      "Epoch 6/7\n",
      "62/62 [==============================] - 6s 99ms/step - loss: 0.1474 - accuracy: 0.9571 - val_loss: 0.5843 - val_accuracy: 0.8537\n",
      "Epoch 7/7\n",
      "62/62 [==============================] - 6s 95ms/step - loss: 0.0854 - accuracy: 0.9714 - val_loss: 0.1955 - val_accuracy: 0.9593\n"
     ]
    }
   ],
   "source": [
    "progess = model.fit(x=X_train,y=y_train,epochs=7,validation_data= (X_test, y_test),batch_size=8)"
   ]
  },
  {
   "cell_type": "code",
   "execution_count": 32,
   "id": "25cdd714",
   "metadata": {},
   "outputs": [
    {
     "data": {
      "image/png": "[encoded data removed]",
      "text/plain": [
       "<Figure size 432x288 with 1 Axes>"
      ]
     },
     "metadata": {
      "needs_background": "light"
     },
     "output_type": "display_data"
    },
    {
     "data": {
      "image/png": "[encoded data removed]",
      "text/plain": [
       "<Figure size 432x288 with 1 Axes>"
      ]
     },
     "metadata": {
      "needs_background": "light"
     },
     "output_type": "display_data"
    }
   ],
   "source": [
    "plt.plot(progess.history['accuracy'])\n",
    "plt.plot(progess.history['val_accuracy'])\n",
    "plt.title('model accuracy')\n",
    "plt.ylabel('accuracy')\n",
    "plt.xlabel('epoch')\n",
    "plt.legend(['train', 'test'], loc='upper left')\n",
    "plt.show()\n",
    "# summarize history for loss\n",
    "plt.plot(progess.history['loss'])\n",
    "plt.plot(progess.history['val_loss'])\n",
    "plt.title('model loss')\n",
    "plt.ylabel('loss')\n",
    "plt.xlabel('epoch')\n",
    "plt.legend(['train', 'test'], loc='upper left')\n",
    "plt.show()"
   ]
  },
  {
   "cell_type": "code",
   "execution_count": 33,
   "id": "d05ebb6a",
   "metadata": {},
   "outputs": [],
   "source": [
    "from sklearn.metrics import classification_report, confusion_matrix\n",
    "y_pred = model.predict(X_test)"
   ]
  },
  {
   "cell_type": "code",
   "execution_count": 34,
   "id": "34b60feb",
   "metadata": {},
   "outputs": [],
   "source": [
    "y_pred_new=[]\n",
    "for i in y_pred:\n",
    "    #print(i)\n",
    "    #break\n",
    "    y=np.argmax(i)\n",
    "    #break\n",
    "    #print(y)\n",
    "    y_pred_new.append(y)"
   ]
  },
  {
   "cell_type": "code",
   "execution_count": 35,
   "id": "ea9f6964",
   "metadata": {},
   "outputs": [
    {
     "name": "stdout",
     "output_type": "stream",
     "text": [
      "                                                  precision    recall  f1-score   support\n",
      "\n",
      "      adenocarcinoma_left.lower.lobe_T2_N0_M0_Ib       0.89      0.97      0.93        32\n",
      "   large.cell.carcinoma_left.hilum_T2_N2_M0_IIIa       1.00      0.97      0.98        30\n",
      "                                          normal       0.96      1.00      0.98        26\n",
      "squamous.cell.carcinoma_left.hilum_T1_N2_M0_IIIa       1.00      0.91      0.96        35\n",
      "\n",
      "                                        accuracy                           0.96       123\n",
      "                                       macro avg       0.96      0.96      0.96       123\n",
      "                                    weighted avg       0.96      0.96      0.96       123\n",
      "\n"
     ]
    }
   ],
   "source": [
    "from sklearn.metrics import classification_report, confusion_matrix\n",
    "print(classification_report(y_test, y_pred_new, target_names=classses))"
   ]
  },
  {
   "cell_type": "code",
   "execution_count": 36,
   "id": "dfb60dc0",
   "metadata": {},
   "outputs": [
    {
     "data": {
      "text/plain": [
       "<AxesSubplot:>"
      ]
     },
     "execution_count": 36,
     "metadata": {},
     "output_type": "execute_result"
    },
    {
     "data": {
      "image/png": "[encoded data removed]",
      "text/plain": [
       "<Figure size 720x216 with 2 Axes>"
      ]
     },
     "metadata": {
      "needs_background": "light"
     },
     "output_type": "display_data"
    }
   ],
   "source": [
    "from sklearn import metrics\n",
    "cm=metrics.confusion_matrix(y_test,y_pred_new)\n",
    "import pandas as pd\n",
    "df_cm=pd.DataFrame(cm)\n",
    "import seaborn as sns\n",
    "plt.figure(figsize = (10,3))\n",
    "sns.heatmap(df_cm, annot=True)"
   ]
  },
  {
   "cell_type": "code",
   "execution_count": 37,
   "id": "26f0b0d0",
   "metadata": {},
   "outputs": [
    {
     "name": "stdout",
     "output_type": "stream",
     "text": [
      "INFO:tensorflow:Assets written to: model_incep.hp5\\assets\n"
     ]
    }
   ],
   "source": [
    "model.save(\"model_incep.hp5\")"
   ]
  },
  {
   "cell_type": "code",
   "execution_count": null,
   "id": "3bfd54bc",
   "metadata": {},
   "outputs": [],
   "source": []
  }
 ],
 "metadata": {
  "kernelspec": {
   "display_name": "Python 3",
   "language": "python",
   "name": "python3"
  },
  "language_info": {
   "codemirror_mode": {
    "name": "ipython",
    "version": 3
   },
   "file_extension": ".py",
   "mimetype": "text/x-python",
   "name": "python",
   "nbconvert_exporter": "python",
   "pygments_lexer": "ipython3",
   "version": "3.8.5"
  }
 },
 "nbformat": 4,
 "nbformat_minor": 5
}
