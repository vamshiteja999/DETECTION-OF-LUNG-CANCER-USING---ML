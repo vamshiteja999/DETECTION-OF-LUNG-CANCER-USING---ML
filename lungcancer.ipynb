{
 "cells": [
  {
   "cell_type": "code",
   "execution_count": 1,
   "id": "b54f896e",
   "metadata": {},
   "outputs": [
    {
     "name": "stderr",
     "output_type": "stream",
     "text": [
      "C:\\Users\\prath\\anaconda3\\envs\\project\\lib\\site-packages\\numpy\\_distributor_init.py:30: UserWarning: loaded more than 1 DLL from .libs:\n",
      "C:\\Users\\prath\\anaconda3\\envs\\project\\lib\\site-packages\\numpy\\.libs\\libopenblas.PYQHXLVVQ7VESDPUVUADXEVJOBGHJPAY.gfortran-win_amd64.dll\n",
      "C:\\Users\\prath\\anaconda3\\envs\\project\\lib\\site-packages\\numpy\\.libs\\libopenblas.WCDJNK7YVMPZQ2ME2ZZHJJRJ3JIKNDB7.gfortran-win_amd64.dll\n",
      "  warnings.warn(\"loaded more than 1 DLL from .libs:\"\n"
     ]
    }
   ],
   "source": [
    "import pandas as pd\n",
    "import seaborn as sns\n",
    "import matplotlib.pyplot as plt\n",
    "import numpy as np\n",
    "import os,cv2"
   ]
  },
  {
   "cell_type": "code",
   "execution_count": 5,
   "id": "87194557",
   "metadata": {},
   "outputs": [],
   "source": [
    "directory=\"DATA/train/\"\n",
    "classses=os.listdir(directory)"
   ]
  },
  {
   "cell_type": "code",
   "execution_count": 6,
   "id": "80cbd891",
   "metadata": {},
   "outputs": [
    {
     "name": "stdout",
     "output_type": "stream",
     "text": [
      "DATA/train/adenocarcinoma_left.lower.lobe_T2_N0_M0_Ib\n",
      "DATA/train/large.cell.carcinoma_left.hilum_T2_N2_M0_IIIa\n",
      "DATA/train/normal\n",
      "DATA/train/squamous.cell.carcinoma_left.hilum_T1_N2_M0_IIIa\n"
     ]
    }
   ],
   "source": [
    "import os\n",
    "import cv2\n",
    "image_size=224\n",
    "data1=[]#empty list\n",
    "for category in classses:\n",
    "    path = os.path.join(directory, category)\n",
    "    print(path)\n",
    "    label = classses.index(category)\n",
    "    for img in os.listdir(path):\n",
    "        img_path = os.path.join(path, img)\n",
    "        arr = cv2.imread(img_path)#Reading Images\n",
    "        arr = cv2.cvtColor(arr, cv2.COLOR_BGR2RGB)\n",
    "        new_arr = cv2.resize(arr, (image_size, image_size))#Resizing into same shape\n",
    "        data1.append([new_arr, label])"
   ]
  },
  {
   "cell_type": "code",
   "execution_count": 7,
   "id": "171ba3b3",
   "metadata": {},
   "outputs": [],
   "source": [
    "import random\n",
    "random.shuffle(data1)"
   ]
  },
  {
   "cell_type": "code",
   "execution_count": 8,
   "id": "59af9f31",
   "metadata": {},
   "outputs": [
    {
     "data": {
      "text/plain": [
       "613"
      ]
     },
     "execution_count": 8,
     "metadata": {},
     "output_type": "execute_result"
    }
   ],
   "source": [
    "len(data1)"
   ]
  },
  {
   "cell_type": "code",
   "execution_count": 9,
   "id": "67a0f719",
   "metadata": {},
   "outputs": [
    {
     "data": {
      "text/plain": [
       "['adenocarcinoma_left.lower.lobe_T2_N0_M0_Ib',\n",
       " 'large.cell.carcinoma_left.hilum_T2_N2_M0_IIIa',\n",
       " 'normal',\n",
       " 'squamous.cell.carcinoma_left.hilum_T1_N2_M0_IIIa']"
      ]
     },
     "execution_count": 9,
     "metadata": {},
     "output_type": "execute_result"
    }
   ],
   "source": [
    "classses"
   ]
  },
  {
   "cell_type": "code",
   "execution_count": 10,
   "id": "3b2f20f7",
   "metadata": {},
   "outputs": [],
   "source": [
    "x=[]#ndependent\n",
    "y=[]#dependent\n",
    "for features,labels in data1:\n",
    "    x.append(features)\n",
    "    y.append(labels)"
   ]
  },
  {
   "cell_type": "code",
   "execution_count": 11,
   "id": "948a627b",
   "metadata": {},
   "outputs": [],
   "source": [
    "x=np.array(x)\n",
    "y=np.array(y)\n",
    "x=x/255 #feature scaling"
   ]
  },
  {
   "cell_type": "code",
   "execution_count": 12,
   "id": "3cd0b848",
   "metadata": {},
   "outputs": [
    {
     "name": "stderr",
     "output_type": "stream",
     "text": [
      "Using TensorFlow backend.\n"
     ]
    }
   ],
   "source": [
    "import tensorflow as tf\n",
    "from tensorflow import keras\n",
    "from keras.models import Sequential"
   ]
  },
  {
   "cell_type": "code",
   "execution_count": 13,
   "id": "1416acea",
   "metadata": {},
   "outputs": [],
   "source": [
    "model=tf.keras.models.Sequential([\n",
    "    tf.keras.layers.Conv2D(128,(3,3),activation='relu',input_shape=x.shape[1:]),\n",
    "    tf.keras.layers.MaxPooling2D(2,2),\n",
    "    tf.keras.layers.Conv2D(64,(3,3),activation='relu'),\n",
    "    tf.keras.layers.MaxPooling2D(2,2),\n",
    "    tf.keras.layers.Conv2D(64,(3,3),activation='relu'),\n",
    "    tf.keras.layers.MaxPooling2D(2,2),\n",
    "    tf.keras.layers.Conv2D(64,(3,3),activation='relu'),\n",
    "    tf.keras.layers.MaxPooling2D(2,2),#Extracting Image Features\n",
    "    tf.keras.layers.Flatten(),# converting 2 dimensional data to one dimensional\n",
    "    tf.keras.layers.Dense(128,activation='relu'),\n",
    "    tf.keras.layers.Dense(128,activation='relu'),\n",
    "    tf.keras.layers.Dense(4,activation=tf.nn.softmax)])"
   ]
  },
  {
   "cell_type": "code",
   "execution_count": 14,
   "id": "fe67b5fb",
   "metadata": {},
   "outputs": [],
   "source": [
    "model.compile(optimizer=\"Adam\",loss='sparse_categorical_crossentropy',metrics=['accuracy']) "
   ]
  },
  {
   "cell_type": "code",
   "execution_count": 15,
   "id": "494c7e11",
   "metadata": {},
   "outputs": [],
   "source": [
    "from sklearn.model_selection import train_test_split\n",
    "X_train,X_test,y_train,y_test=train_test_split(x,y,test_size=0.25)"
   ]
  },
  {
   "cell_type": "code",
   "execution_count": 16,
   "id": "39cec2b9",
   "metadata": {},
   "outputs": [
    {
     "name": "stdout",
     "output_type": "stream",
     "text": [
      "Epoch 1/15\n",
      "15/15 [==============================] - 60s 4s/step - loss: 1.3402 - accuracy: 0.3268 - val_loss: 1.1976 - val_accuracy: 0.4610\n",
      "Epoch 2/15\n",
      "15/15 [==============================] - 54s 4s/step - loss: 1.0827 - accuracy: 0.4967 - val_loss: 0.9455 - val_accuracy: 0.6494\n",
      "Epoch 3/15\n",
      "15/15 [==============================] - 54s 4s/step - loss: 0.8476 - accuracy: 0.6340 - val_loss: 0.8349 - val_accuracy: 0.7597\n",
      "Epoch 4/15\n",
      "15/15 [==============================] - 53s 4s/step - loss: 0.5951 - accuracy: 0.7843 - val_loss: 0.9972 - val_accuracy: 0.7468\n",
      "Epoch 5/15\n",
      "15/15 [==============================] - 53s 4s/step - loss: 0.6127 - accuracy: 0.7756 - val_loss: 0.6250 - val_accuracy: 0.7662\n",
      "Epoch 6/15\n",
      "15/15 [==============================] - 53s 4s/step - loss: 0.4852 - accuracy: 0.8083 - val_loss: 0.5957 - val_accuracy: 0.7727\n",
      "Epoch 7/15\n",
      "15/15 [==============================] - 54s 4s/step - loss: 0.3710 - accuracy: 0.8606 - val_loss: 0.5907 - val_accuracy: 0.7597\n",
      "Epoch 8/15\n",
      "15/15 [==============================] - 53s 4s/step - loss: 0.2592 - accuracy: 0.9041 - val_loss: 0.5600 - val_accuracy: 0.7662\n",
      "Epoch 9/15\n",
      "15/15 [==============================] - 55s 4s/step - loss: 0.3065 - accuracy: 0.8715 - val_loss: 0.4984 - val_accuracy: 0.7792\n",
      "Epoch 10/15\n",
      "15/15 [==============================] - 54s 4s/step - loss: 0.1845 - accuracy: 0.9390 - val_loss: 0.3907 - val_accuracy: 0.9026\n",
      "Epoch 11/15\n",
      "15/15 [==============================] - 56s 4s/step - loss: 0.1097 - accuracy: 0.9586 - val_loss: 0.6087 - val_accuracy: 0.8182\n",
      "Epoch 12/15\n",
      "15/15 [==============================] - 54s 4s/step - loss: 0.1271 - accuracy: 0.9521 - val_loss: 0.5555 - val_accuracy: 0.8377\n",
      "Epoch 13/15\n",
      "15/15 [==============================] - 55s 4s/step - loss: 0.0747 - accuracy: 0.9717 - val_loss: 0.5069 - val_accuracy: 0.9026\n",
      "Epoch 14/15\n",
      "15/15 [==============================] - 55s 4s/step - loss: 0.0333 - accuracy: 0.9935 - val_loss: 0.5862 - val_accuracy: 0.8961\n",
      "Epoch 15/15\n",
      "15/15 [==============================] - 58s 4s/step - loss: 0.0184 - accuracy: 0.9956 - val_loss: 0.4698 - val_accuracy: 0.9286\n",
      "5/5 [==============================] - 4s 701ms/step - loss: 0.4698 - accuracy: 0.9286\n",
      "Test loss: 0.46976521611213684\n",
      "Test accuracy: 0.9285714030265808\n"
     ]
    }
   ],
   "source": [
    "history=model.fit(x=X_train,y=y_train,epochs=15,validation_data= (X_test, y_test))\n",
    "\n",
    "score = model.evaluate(x=X_test,y=y_test)\n",
    "\n",
    "print('Test loss:', score[0])\n",
    "print('Test accuracy:', score[1])"
   ]
  },
  {
   "cell_type": "code",
   "execution_count": 17,
   "id": "b38e6a66",
   "metadata": {},
   "outputs": [
    {
     "data": {
      "image/png": "[encoded data removed]",
      "text/plain": [
       "<Figure size 432x288 with 1 Axes>"
      ]
     },
     "metadata": {
      "needs_background": "light"
     },
     "output_type": "display_data"
    },
    {
     "data": {
      "image/png": "[encoded data removed]",
      "text/plain": [
       "<Figure size 432x288 with 1 Axes>"
      ]
     },
     "metadata": {
      "needs_background": "light"
     },
     "output_type": "display_data"
    }
   ],
   "source": [
    "plt.plot(history.history['accuracy'])\n",
    "plt.plot(history.history['val_accuracy'])\n",
    "plt.title('model accuracy')\n",
    "plt.ylabel('accuracy')\n",
    "plt.xlabel('epoch')\n",
    "plt.legend(['train', 'test'], loc='upper left')\n",
    "plt.show()\n",
    "# summarize history for loss\n",
    "plt.plot(history.history['loss'])\n",
    "plt.plot(history.history['val_loss'])\n",
    "plt.title('model loss')\n",
    "plt.ylabel('loss')\n",
    "plt.xlabel('epoch')\n",
    "plt.legend(['train', 'test'], loc='upper left')\n",
    "plt.show()"
   ]
  },
  {
   "cell_type": "code",
   "execution_count": 18,
   "id": "4ea47b0b",
   "metadata": {},
   "outputs": [
    {
     "name": "stdout",
     "output_type": "stream",
     "text": [
      "WARNING:tensorflow:From C:\\Users\\prath\\AppData\\Roaming\\Python\\Python38\\site-packages\\tensorflow\\python\\training\\tracking\\tracking.py:111: Model.state_updates (from tensorflow.python.keras.engine.training) is deprecated and will be removed in a future version.\n",
      "Instructions for updating:\n",
      "This property should not be used in TensorFlow 2.0, as updates are applied automatically.\n",
      "WARNING:tensorflow:From C:\\Users\\prath\\AppData\\Roaming\\Python\\Python38\\site-packages\\tensorflow\\python\\training\\tracking\\tracking.py:111: Layer.updates (from tensorflow.python.keras.engine.base_layer) is deprecated and will be removed in a future version.\n",
      "Instructions for updating:\n",
      "This property should not be used in TensorFlow 2.0, as updates are applied automatically.\n",
      "INFO:tensorflow:Assets written to: lung.hp5\\assets\n"
     ]
    }
   ],
   "source": [
    "model.save(\"lung.hp5\")"
   ]
  },
  {
   "cell_type": "code",
   "execution_count": 22,
   "id": "d4519b2b",
   "metadata": {},
   "outputs": [
    {
     "name": "stdout",
     "output_type": "stream",
     "text": [
      "000108 (3).png\n",
      "<class 'numpy.ndarray'>\n",
      "0\n",
      "adenocarcinoma_left.lower.lobe_T2_N0_M0_Ib\n",
      "cancer is Detected and Detected type is adenocarcinoma_left.lower.lobe_t2_n0_m0_ib\n",
      "-----------------------------------------------\n",
      "000109 (2).png\n",
      "<class 'numpy.ndarray'>\n",
      "1\n",
      "large.cell.carcinoma_left.hilum_T2_N2_M0_IIIa\n",
      "cancer is Detected and Detected type is large.cell.carcinoma_left.hilum_t2_n2_m0_iiia\n",
      "-----------------------------------------------\n",
      "000109 (4).png\n",
      "<class 'numpy.ndarray'>\n",
      "3\n",
      "squamous.cell.carcinoma_left.hilum_T1_N2_M0_IIIa\n",
      "cancer is Detected and Detected type is squamous.cell.carcinoma_left.hilum_t1_n2_m0_iiia\n",
      "-----------------------------------------------\n",
      "000109 (5).png\n",
      "<class 'numpy.ndarray'>\n",
      "1\n",
      "large.cell.carcinoma_left.hilum_T2_N2_M0_IIIa\n",
      "cancer is Detected and Detected type is large.cell.carcinoma_left.hilum_t2_n2_m0_iiia\n",
      "-----------------------------------------------\n"
     ]
    }
   ],
   "source": [
    "import os\n",
    "import tensorflow as tf\n",
    "tf.compat.v1.logging.set_verbosity(tf.compat.v1.logging.ERROR)\n",
    "import numpy as np\n",
    "for i in os.listdir(\"test/\"):\n",
    "    print(i)\n",
    "    \n",
    "    from tensorflow import keras\n",
    "    model = keras.models.load_model('lung.hp5')\n",
    "    classes = {'TRAIN':['adenocarcinoma_left.lower.lobe_T2_N0_M0_Ib',\n",
    " 'large.cell.carcinoma_left.hilum_T2_N2_M0_IIIa',\n",
    " 'normal',\n",
    " 'squamous.cell.carcinoma_left.hilum_T1_N2_M0_IIIa']}\n",
    "    from keras.preprocessing import image\n",
    "    image_size=224\n",
    "    #img = cv2.imread(path1+\"//\"+i)\n",
    "    path=\"test/\"+\"//\"+i\n",
    "    img = image.load_img(path, target_size=(image_size, image_size))\n",
    "    x = image.img_to_array(img)\n",
    "    print(type(x))\n",
    "    img_4d=x.reshape(1,224,224,3)\n",
    "    img_4d=img_4d/255\n",
    "    model = keras.models.load_model('lung.hp5')\n",
    "    predictions = model.predict_classes(img_4d)\n",
    "    print(predictions[0])\n",
    "    predicted_class = classes['TRAIN'][predictions[0]]\n",
    "    print(predicted_class)\n",
    "    list1=[0,1,3]\n",
    "    if predictions[0] in list1:\n",
    "        print(\"cancer is Detected and Detected type is \"+str(predicted_class.lower()))\n",
    "       # print('We think that is {}.'.format(predicted_class.lower()))\n",
    "    else:\n",
    "        print(\"Congratulation lung is {}\".format(predicted_class.lower()))\n",
    "    print(\"-----------------------------------------------\")"
   ]
  },
  {
   "cell_type": "code",
   "execution_count": null,
   "id": "8bba0608",
   "metadata": {},
   "outputs": [],
   "source": []
  }
 ],
 "metadata": {
  "kernelspec": {
   "display_name": "Python 3 (ipykernel)",
   "language": "python",
   "name": "python3"
  },
  "language_info": {
   "codemirror_mode": {
    "name": "ipython",
    "version": 3
   },
   "file_extension": ".py",
   "mimetype": "text/x-python",
   "name": "python",
   "nbconvert_exporter": "python",
   "pygments_lexer": "ipython3",
   "version": "3.8.12"
  }
 },
 "nbformat": 4,
 "nbformat_minor": 5
}
